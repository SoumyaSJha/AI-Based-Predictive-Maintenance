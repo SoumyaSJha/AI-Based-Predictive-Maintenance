{
 "cells": [
  {
   "cell_type": "code",
   "execution_count": 1,
   "id": "a6b4a582",
   "metadata": {
    "_cell_guid": "b1076dfc-b9ad-4769-8c92-a6c4dae69d19",
    "_uuid": "8f2839f25d086af736a60e9eeb907d3b93b6e0e5",
    "execution": {
     "iopub.execute_input": "2023-03-30T04:35:27.012775Z",
     "iopub.status.busy": "2023-03-30T04:35:27.012287Z",
     "iopub.status.idle": "2023-03-30T04:35:27.024135Z",
     "shell.execute_reply": "2023-03-30T04:35:27.022081Z"
    },
    "papermill": {
     "duration": 0.020018,
     "end_time": "2023-03-30T04:35:27.027502",
     "exception": false,
     "start_time": "2023-03-30T04:35:27.007484",
     "status": "completed"
    },
    "tags": []
   },
   "outputs": [],
   "source": [
    "import pandas as pd\n",
    "import numpy as np\n",
    "import os\n",
    "import glob"
   ]
  },
  {
   "cell_type": "code",
   "execution_count": 2,
   "id": "5e3eb450",
   "metadata": {
    "execution": {
     "iopub.execute_input": "2023-03-30T04:35:27.033495Z",
     "iopub.status.busy": "2023-03-30T04:35:27.033046Z",
     "iopub.status.idle": "2023-03-30T04:42:14.062190Z",
     "shell.execute_reply": "2023-03-30T04:42:14.059245Z"
    },
    "papermill": {
     "duration": 407.039375,
     "end_time": "2023-03-30T04:42:14.068952",
     "exception": false,
     "start_time": "2023-03-30T04:35:27.029577",
     "status": "completed"
    },
    "tags": []
   },
   "outputs": [],
   "source": [
    "data_paths = [\n",
    "   '/kaggle/input/testproj1/data_Q1_2021',\n",
    "    '/kaggle/input/testproj1/data_Q2_2021 (1)'\n",
    "]\n",
    "\n",
    "df = pd.DataFrame()\n",
    "for path in data_paths:\n",
    "    if os.path.exists(path):\n",
    "        files = os.listdir(path)\n",
    "        for csv_file_name in files:\n",
    "            df2 = pd.read_csv(os.path.join(path, csv_file_name))\n",
    "            df2 = df2.loc[df2['model'] == 'ST4000DM000']\n",
    "            df = df.append(df2, ignore_index=True)\n",
    "\n",
    "df.to_pickle('test.pickle')"
   ]
  }
 ],
 "metadata": {
  "kernelspec": {
   "display_name": "Python 3",
   "language": "python",
   "name": "python3"
  },
  "language_info": {
   "codemirror_mode": {
    "name": "ipython",
    "version": 3
   },
   "file_extension": ".py",
   "mimetype": "text/x-python",
   "name": "python",
   "nbconvert_exporter": "python",
   "pygments_lexer": "ipython3",
   "version": "3.7.12"
  },
  "papermill": {
   "default_parameters": {},
   "duration": 417.716888,
   "end_time": "2023-03-30T04:42:15.017051",
   "environment_variables": {},
   "exception": null,
   "input_path": "__notebook__.ipynb",
   "output_path": "__notebook__.ipynb",
   "parameters": {},
   "start_time": "2023-03-30T04:35:17.300163",
   "version": "2.4.0"
  }
 },
 "nbformat": 4,
 "nbformat_minor": 5
}
