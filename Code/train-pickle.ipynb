{
 "cells": [
  {
   "cell_type": "code",
   "execution_count": 1,
   "id": "62efcc9d",
   "metadata": {
    "_cell_guid": "b1076dfc-b9ad-4769-8c92-a6c4dae69d19",
    "_uuid": "8f2839f25d086af736a60e9eeb907d3b93b6e0e5",
    "execution": {
     "iopub.execute_input": "2023-03-26T19:04:48.105966Z",
     "iopub.status.busy": "2023-03-26T19:04:48.105517Z",
     "iopub.status.idle": "2023-03-26T19:04:48.116918Z",
     "shell.execute_reply": "2023-03-26T19:04:48.115673Z"
    },
    "papermill": {
     "duration": 0.018604,
     "end_time": "2023-03-26T19:04:48.119811",
     "exception": false,
     "start_time": "2023-03-26T19:04:48.101207",
     "status": "completed"
    },
    "tags": []
   },
   "outputs": [],
   "source": [
    "import pandas as pd\n",
    "import numpy as np\n",
    "import os\n",
    "import glob"
   ]
  },
  {
   "cell_type": "code",
   "execution_count": 2,
   "id": "649cace0",
   "metadata": {
    "execution": {
     "iopub.execute_input": "2023-03-26T19:04:48.125193Z",
     "iopub.status.busy": "2023-03-26T19:04:48.124762Z",
     "iopub.status.idle": "2023-03-26T19:43:18.089030Z",
     "shell.execute_reply": "2023-03-26T19:43:18.084317Z"
    },
    "papermill": {
     "duration": 2309.976091,
     "end_time": "2023-03-26T19:43:18.097859",
     "exception": false,
     "start_time": "2023-03-26T19:04:48.121768",
     "status": "completed"
    },
    "tags": []
   },
   "outputs": [],
   "source": [
    "\n",
    "\n",
    "data_paths = [\n",
    "    '/kaggle/input/dataset/data_Q2_2022/data_Q2_2022 ',\n",
    "    '/kaggle/input/dataset/data_Q4_2022/data_Q4_2022',\n",
    "    '/kaggle/input/dataset/data_Q3_2022/data_Q3_2022',\n",
    "    '/kaggle/input/dataset/data_Q1_2022/data_Q1_2022'\n",
    "]\n",
    "\n",
    "df = pd.DataFrame()\n",
    "for path in data_paths:\n",
    "    if os.path.exists(path):\n",
    "        files = os.listdir(path)\n",
    "        for csv_file_name in files:\n",
    "            df2 = pd.read_csv(os.path.join(path, csv_file_name))\n",
    "            df2 = df2.loc[df2['model'] == 'ST4000DM000']\n",
    "            df = df.append(df2, ignore_index=True)\n",
    "\n",
    "df.to_pickle('train.pickle')\n"
   ]
  }
 ],
 "metadata": {
  "kernelspec": {
   "display_name": "Python 3",
   "language": "python",
   "name": "python3"
  },
  "language_info": {
   "codemirror_mode": {
    "name": "ipython",
    "version": 3
   },
   "file_extension": ".py",
   "mimetype": "text/x-python",
   "name": "python",
   "nbconvert_exporter": "python",
   "pygments_lexer": "ipython3",
   "version": "3.7.12"
  },
  "papermill": {
   "default_parameters": {},
   "duration": 2324.492603,
   "end_time": "2023-03-26T19:43:19.647077",
   "environment_variables": {},
   "exception": null,
   "input_path": "__notebook__.ipynb",
   "output_path": "__notebook__.ipynb",
   "parameters": {},
   "start_time": "2023-03-26T19:04:35.154474",
   "version": "2.4.0"
  }
 },
 "nbformat": 4,
 "nbformat_minor": 5
}
